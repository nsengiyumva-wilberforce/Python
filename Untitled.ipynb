{
 "cells": [
  {
   "cell_type": "code",
   "execution_count": 18,
   "id": "426657df",
   "metadata": {},
   "outputs": [
    {
     "name": "stdout",
     "output_type": "stream",
     "text": [
      "False\n"
     ]
    }
   ],
   "source": [
    "from collections import deque\n",
    "\n",
    "def isBalanced(str):\n",
    "    stack = deque()\n",
    "    brackets = {'(':')','[':']','{':'}'}\n",
    "    for char in str:\n",
    "        if char in brackets:\n",
    "            stack.append(char)\n",
    "        else:\n",
    "            if len(stack) == 0 or char!=brackets[stack.pop()]:\n",
    "                return False\n",
    "    return len(stack)==0"
   ]
  },
  {
   "cell_type": "code",
   "execution_count": null,
   "id": "e6ba5599",
   "metadata": {},
   "outputs": [],
   "source": []
  }
 ],
 "metadata": {
  "kernelspec": {
   "display_name": "Python 3 (ipykernel)",
   "language": "python",
   "name": "python3"
  },
  "language_info": {
   "codemirror_mode": {
    "name": "ipython",
    "version": 3
   },
   "file_extension": ".py",
   "mimetype": "text/x-python",
   "name": "python",
   "nbconvert_exporter": "python",
   "pygments_lexer": "ipython3",
   "version": "3.9.7"
  }
 },
 "nbformat": 4,
 "nbformat_minor": 5
}
